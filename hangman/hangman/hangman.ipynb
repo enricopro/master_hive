{
 "cells": [
  {
   "cell_type": "markdown",
   "source": [
    "# Hangman RL"
   ],
   "metadata": {
    "collapsed": false
   }
  },
  {
   "cell_type": "code",
   "execution_count": 1,
   "metadata": {
    "collapsed": true,
    "ExecuteTime": {
     "end_time": "2024-01-14T14:37:19.760727Z",
     "start_time": "2024-01-14T14:37:17.694771Z"
    }
   },
   "outputs": [],
   "source": [
    "from tqdm import trange\n",
    "import tensorflow as tf\n",
    "import numpy as np\n",
    "from hangman import Environment, Agent"
   ]
  },
  {
   "cell_type": "code",
   "execution_count": 2,
   "outputs": [
    {
     "name": "stdout",
     "output_type": "stream",
     "text": [
      "loading dataset\n"
     ]
    }
   ],
   "source": [
    "# parallel environments over which we will play\n",
    "# we use multiple environments so that samples from them are time-uncorrelated\n",
    "envs = [Environment(\"dataset.txt\") for _ in range(1024)]"
   ],
   "metadata": {
    "collapsed": false,
    "pycharm": {
     "name": "#%%\n"
    },
    "ExecuteTime": {
     "end_time": "2024-01-14T14:37:20.011671Z",
     "start_time": "2024-01-14T14:37:19.762174Z"
    }
   }
  },
  {
   "cell_type": "code",
   "execution_count": 3,
   "outputs": [
    {
     "name": "stdout",
     "output_type": "stream",
     "text": [
      "Metal device set to: Apple M1 Max\n"
     ]
    },
    {
     "name": "stderr",
     "output_type": "stream",
     "text": [
      "2024-01-14 15:37:20.013810: I tensorflow/core/common_runtime/pluggable_device/pluggable_device_factory.cc:305] Could not identify NUMA node of platform GPU ID 0, defaulting to 0. Your kernel may not have been built with NUMA support.\n",
      "2024-01-14 15:37:20.013942: I tensorflow/core/common_runtime/pluggable_device/pluggable_device_factory.cc:271] Created TensorFlow device (/job:localhost/replica:0/task:0/device:GPU:0 with 0 MB memory) -> physical PluggableDevice (device: 0, name: METAL, pci bus id: <undefined>)\n"
     ]
    }
   ],
   "source": [
    "# we build the agent, passing the first env as example from which take the word list\n",
    "agent = Agent(envs[0], batch_size=len(envs), actor_rep=1)"
   ],
   "metadata": {
    "collapsed": false,
    "pycharm": {
     "name": "#%%\n"
    },
    "ExecuteTime": {
     "end_time": "2024-01-14T14:37:20.028151Z",
     "start_time": "2024-01-14T14:37:20.009916Z"
    }
   }
  },
  {
   "cell_type": "markdown",
   "source": [
    "## Training of the main agent"
   ],
   "metadata": {
    "collapsed": false
   }
  },
  {
   "cell_type": "markdown",
   "source": [
    "Takes 5/10 minutes depending on the PC"
   ],
   "metadata": {
    "collapsed": false
   }
  },
  {
   "cell_type": "code",
   "execution_count": 4,
   "outputs": [
    {
     "name": "stdout",
     "output_type": "stream",
     "text": [
      "0/5000 - 0\n"
     ]
    },
    {
     "name": "stderr",
     "output_type": "stream",
     "text": [
      "loc(\"mps_select\"(\"(mpsFileLoc): /AppleInternal/Library/BuildRoots/75428952-3aa4-11ee-8b65-46d450270006/Library/Caches/com.apple.xbs/Sources/MetalPerformanceShadersGraph/mpsgraph/MetalPerformanceShadersGraph/Core/Files/MPSGraphUtilities.mm\":294:0)): error: 'anec.gain_offset_control' op result #0 must be 4D/5D memref of 16-bit float or 8-bit signed integer or 8-bit unsigned integer values, but got 'memref<1x1024x1x1xi1>'\n"
     ]
    },
    {
     "name": "stdout",
     "output_type": "stream",
     "text": [
      "50/5000 - 0\n",
      "100/5000 - -0.07467447916666667\n",
      "150/5000 - -0.07184244791666666\n",
      "200/5000 - -0.06959635416666667\n",
      "250/5000 - -0.06741536458333333\n",
      "300/5000 - -0.06455078125\n",
      "350/5000 - -0.06188151041666667\n",
      "400/5000 - -0.05960286458333333\n",
      "450/5000 - -0.05706380208333333\n",
      "500/5000 - -0.054850260416666664\n",
      "550/5000 - -0.050520833333333334\n",
      "600/5000 - -0.0482421875\n",
      "650/5000 - -0.0466796875\n",
      "700/5000 - -0.045084635416666664\n",
      "750/5000 - -0.04195963541666667\n",
      "800/5000 - -0.04108072916666667\n",
      "850/5000 - -0.03818359375\n",
      "900/5000 - -0.03430989583333333\n",
      "950/5000 - -0.03333333333333333\n",
      "1000/5000 - -0.031184895833333334\n",
      "1050/5000 - -0.02646484375\n",
      "1100/5000 - -0.027376302083333335\n",
      "1150/5000 - -0.02568359375\n",
      "1200/5000 - -0.0236328125\n",
      "1250/5000 - -0.02548828125\n",
      "1300/5000 - -0.022298177083333332\n",
      "1350/5000 - -0.020930989583333334\n",
      "1400/5000 - -0.01943359375\n",
      "1450/5000 - -0.016927083333333332\n",
      "1500/5000 - -0.02099609375\n",
      "1550/5000 - -0.020540364583333335\n",
      "1600/5000 - -0.01875\n",
      "1650/5000 - -0.016634114583333335\n",
      "1700/5000 - -0.019303385416666666\n",
      "1750/5000 - -0.017024739583333334\n",
      "1800/5000 - -0.016373697916666666\n",
      "1850/5000 - -0.018815104166666666\n",
      "1900/5000 - -0.015657552083333335\n",
      "1950/5000 - -0.015983072916666667\n",
      "2000/5000 - -0.015266927083333333\n",
      "2050/5000 - -0.017708333333333333\n",
      "2100/5000 - -0.018424479166666667\n",
      "2150/5000 - -0.016634114583333335\n",
      "2200/5000 - -0.0138671875\n",
      "2250/5000 - -0.016569010416666665\n",
      "2300/5000 - -0.01650390625\n",
      "2350/5000 - -0.01953125\n",
      "2400/5000 - -0.016373697916666666\n",
      "2450/5000 - -0.013541666666666667\n",
      "2500/5000 - -0.015885416666666666\n",
      "2550/5000 - -0.0154296875\n",
      "2600/5000 - -0.01875\n",
      "2650/5000 - -0.01708984375\n",
      "2700/5000 - -0.0173828125\n",
      "2750/5000 - -0.015462239583333334\n",
      "2800/5000 - -0.015592447916666667\n",
      "2850/5000 - -0.0142578125\n",
      "2900/5000 - -0.017350260416666666\n",
      "2950/5000 - -0.015559895833333334\n",
      "3000/5000 - -0.018391927083333332\n",
      "3050/5000 - -0.016015625\n",
      "3100/5000 - -0.0162109375\n",
      "3150/5000 - -0.018098958333333335\n",
      "3200/5000 - -0.016015625\n",
      "3250/5000 - -0.015201822916666666\n",
      "3300/5000 - -0.013509114583333334\n",
      "3350/5000 - -0.0146484375\n",
      "3400/5000 - -0.016048177083333334\n",
      "3450/5000 - -0.017350260416666666\n",
      "3500/5000 - -0.015559895833333334\n",
      "3550/5000 - -0.015234375\n",
      "3600/5000 - -0.015690104166666666\n",
      "3650/5000 - -0.018196614583333333\n",
      "3700/5000 - -0.015104166666666667\n",
      "3750/5000 - -0.014615885416666667\n",
      "3800/5000 - -0.012369791666666666\n",
      "3850/5000 - -0.01533203125\n",
      "3900/5000 - -0.013444010416666667\n",
      "3950/5000 - -0.014029947916666667\n",
      "4000/5000 - -0.014322916666666666\n",
      "4050/5000 - -0.016861979166666666\n",
      "4100/5000 - -0.014095052083333334\n",
      "4150/5000 - -0.0150390625\n",
      "4200/5000 - -0.017024739583333334\n",
      "4250/5000 - -0.017643229166666666\n",
      "4300/5000 - -0.013802083333333333\n",
      "4350/5000 - -0.014583333333333334\n",
      "4400/5000 - -0.0173828125\n",
      "4450/5000 - -0.013736979166666666\n",
      "4500/5000 - -0.0162109375\n",
      "4550/5000 - -0.015559895833333334\n",
      "4600/5000 - -0.01630859375\n",
      "4650/5000 - -0.014453125\n",
      "4700/5000 - -0.0162109375\n",
      "4750/5000 - -0.013704427083333333\n",
      "4800/5000 - -0.014095052083333334\n",
      "4850/5000 - -0.015755208333333333\n",
      "4900/5000 - -0.01728515625\n",
      "4950/5000 - -0.013834635416666666\n"
     ]
    }
   ],
   "source": [
    "rewards_history = [0]\n",
    "EPOCHS = 5000\n",
    "for e in range(EPOCHS):\n",
    "    if e % 50 == 0:\n",
    "        print(f\"{e}/{EPOCHS} - {np.mean(rewards_history[-30:]) or 0}\", end=\"\\n\")\n",
    "    states = []\n",
    "    masks = []\n",
    "    # get states and masks for each env\n",
    "    for env in envs:\n",
    "        states.append(agent.state(env))\n",
    "        masks.append(agent.mask(env))\n",
    "    states = np.array(states)\n",
    "    masks = np.array(masks)\n",
    "\n",
    "    # calculate pi(a|s)\n",
    "    original_probs = agent.actor(states)\n",
    "    probs = original_probs * masks\n",
    "    probs = probs / tf.reduce_sum(probs, axis=-1, keepdims=True)\n",
    "    # sample word to guess\n",
    "    samples = tf.random.categorical(tf.math.log(probs), 1)[:, 0]\n",
    "\n",
    "    rewards = []\n",
    "    dones = []\n",
    "    # act on each env and collect reward/done\n",
    "    for sample, env in zip(samples, envs):\n",
    "        r, d = env.act(agent.int_to_only_letter(env, sample))\n",
    "        rewards.append(r)\n",
    "        dones.append(d)\n",
    "\n",
    "    rewards = np.array(rewards)\n",
    "    dones = np.array(dones)\n",
    "    # collect new states, to use for the learning of the agent\n",
    "    new_states = []\n",
    "    for env in envs:\n",
    "        new_states.append(agent.state(env))\n",
    "    new_states = np.array(new_states)\n",
    "    # learning for the agent\n",
    "    agent.learn(states, new_states, samples, rewards, dones, masks)\n",
    "\n",
    "    # collect history of rewards\n",
    "    if e > 50: rewards_history.append(np.mean(rewards))\n"
   ],
   "metadata": {
    "collapsed": false,
    "pycharm": {
     "name": "#%%\n"
    },
    "ExecuteTime": {
     "end_time": "2024-01-14T14:51:03.915703Z",
     "start_time": "2024-01-14T14:37:20.028575Z"
    }
   }
  },
  {
   "cell_type": "markdown",
   "source": [
    "## Training of a random agent (baseline)"
   ],
   "metadata": {
    "collapsed": false
   }
  },
  {
   "cell_type": "code",
   "execution_count": 7,
   "outputs": [
    {
     "name": "stderr",
     "output_type": "stream",
     "text": [
      "100%|██████████| 1000/1000 [00:15<00:00, 65.50it/s]\n"
     ]
    }
   ],
   "source": [
    "envs = [Environment(\"dataset.txt\") for _ in range(256)]\n",
    "shape = (256, len(envs[0].only_letters_list))\n",
    "random_rewards_history = []\n",
    "for _ in trange(1000):\n",
    "    masks = []\n",
    "    for env in envs:\n",
    "        masks.append(agent.mask(env))\n",
    "    masks = np.array(masks)\n",
    "    # uniform distribution over letters\n",
    "    probs = np.ones(shape)/shape[-1]\n",
    "    probs = probs * masks\n",
    "    probs = probs * tf.linalg.norm(probs, ord=1, axis=-1)[0]\n",
    "    samples = tf.random.categorical(tf.math.log(probs), 1)[:, 0]\n",
    "    rewards = []\n",
    "    for sample, env in zip(samples, envs):\n",
    "        r,d = env.act(agent.int_to_only_letter(env, sample))\n",
    "        rewards.append(r)\n",
    "    rewards = np.array(rewards)\n",
    "    random_rewards_history.append(np.mean(rewards))"
   ],
   "metadata": {
    "collapsed": false,
    "pycharm": {
     "name": "#%%\n"
    },
    "ExecuteTime": {
     "end_time": "2024-01-14T14:51:50.904981Z",
     "start_time": "2024-01-14T14:51:35.583475Z"
    }
   }
  },
  {
   "cell_type": "markdown",
   "source": [
    "## Training results"
   ],
   "metadata": {
    "collapsed": false
   }
  },
  {
   "cell_type": "code",
   "execution_count": 8,
   "outputs": [
    {
     "data": {
      "text/plain": "Text(0, 0.5, 'rewards')"
     },
     "execution_count": 8,
     "metadata": {},
     "output_type": "execute_result"
    },
    {
     "data": {
      "text/plain": "<Figure size 640x480 with 1 Axes>",
      "image/png": "[encoded data removed]"
     },
     "metadata": {},
     "output_type": "display_data"
    }
   ],
   "source": [
    "import matplotlib.pyplot as plt\n",
    "N = 10\n",
    "rewards_history_ = np.reshape(rewards_history[:len(rewards_history) // N * N], (-1, N)).mean(axis=-1)\n",
    "plt.hlines(np.mean(random_rewards_history), 0, len(rewards_history_), color=\"red\", linestyles=\"dotted\")\n",
    "plt.plot(rewards_history_)\n",
    "plt.legend([\"random baseline\", \"rewards PPO\"])\n",
    "plt.xlabel(\"epochs\")\n",
    "plt.ylabel(\"rewards\")"
   ],
   "metadata": {
    "collapsed": false,
    "pycharm": {
     "name": "#%%\n"
    },
    "ExecuteTime": {
     "end_time": "2024-01-14T14:52:18.228334Z",
     "start_time": "2024-01-14T14:52:18.158555Z"
    }
   }
  }
 ],
 "metadata": {
  "kernelspec": {
   "name": "ml-apple-metal",
   "language": "python",
   "display_name": "Python 3.9 (ML lib metal)"
  },
  "language_info": {
   "codemirror_mode": {
    "name": "ipython",
    "version": 2
   },
   "file_extension": ".py",
   "mimetype": "text/x-python",
   "name": "python",
   "nbconvert_exporter": "python",
   "pygments_lexer": "ipython2",
   "version": "2.7.6"
  }
 },
 "nbformat": 4,
 "nbformat_minor": 0
}
